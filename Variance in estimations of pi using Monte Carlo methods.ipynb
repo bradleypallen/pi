{
 "cells": [
  {
   "cell_type": "code",
   "execution_count": 1,
   "metadata": {},
   "outputs": [],
   "source": [
    "%matplotlib inline\n",
    "from matplotlib import pyplot as plt\n",
    "import numpy as np\n",
    "import pandas as pd\n",
    "import math, random"
   ]
  },
  {
   "cell_type": "code",
   "execution_count": 2,
   "metadata": {},
   "outputs": [],
   "source": [
    "def estimate(method, runs, samples_per_run):\n",
    "    estimates = []\n",
    "    for i in range(runs):\n",
    "        estimates.append(method(samples_per_run))\n",
    "    return estimates"
   ]
  },
  {
   "cell_type": "code",
   "execution_count": 3,
   "metadata": {},
   "outputs": [],
   "source": [
    "def pi_by_area(n):\n",
    "    hits = 0\n",
    "    for i in range(n):\n",
    "        d = math.pow(random.random(), 2.) + math.pow(random.random(), 2.) \n",
    "        if d <= 1.0:\n",
    "            hits += 1\n",
    "    return (float(hits) / float(n)) * 4."
   ]
  },
  {
   "cell_type": "code",
   "execution_count": 4,
   "metadata": {},
   "outputs": [],
   "source": [
    "def pi_by_average_height(n):\n",
    "    sum = 0.\n",
    "    for i in range(n):\n",
    "        r = random.random()\n",
    "        sum += math.sqrt(1. - math.pow(r, 2.))\n",
    "    return (sum / float(n)) * 4."
   ]
  },
  {
   "cell_type": "code",
   "execution_count": 5,
   "metadata": {},
   "outputs": [],
   "source": [
    "def pi_by_average_height_with_antithetic_variates(n):\n",
    "    sum = 0.\n",
    "    for i in range(n):\n",
    "        r = random.random()\n",
    "        sum += math.sqrt(1. - math.pow(r, 2.))\n",
    "        sum += math.sqrt(1. - math.pow((1. - r), 2.))\n",
    "    return (sum / float(n)) * 2."
   ]
  },
  {
   "cell_type": "code",
   "execution_count": 6,
   "metadata": {},
   "outputs": [],
   "source": [
    "def pi_by_average_height_with_antithetic_and_control_variates(n):\n",
    "    sum = 0.\n",
    "    c = [ math.pow(float(x) * 0.0001, 2.) for x in range(10000) ]\n",
    "    f = [ math.sqrt(1. - math.pow(float(x) * 0.0001, 2.)) for x in range(10000) ]\n",
    "    b = - np.cov(f,c)[0,1]/np.var(c)\n",
    "    for i in range(n):\n",
    "        r = random.random()\n",
    "        sum += math.sqrt(1. - math.pow(r, 2.)) + (b * (math.pow(r, 2.) - (1. / 3.)))\n",
    "        sum += math.sqrt(1. - math.pow((1. - r), 2.)) + (b * (math.pow((1. - r), 2.) - (1. / 3.)))\n",
    "    return (sum / float(n)) * 2."
   ]
  },
  {
   "cell_type": "code",
   "execution_count": 7,
   "metadata": {},
   "outputs": [],
   "source": [
    "def pi_by_probability_of_coprimality(n):\n",
    "    hits = 0\n",
    "    for i in range(n):\n",
    "        n1 = random.randrange(100000)\n",
    "        n2 = random.randrange(100000)\n",
    "        if math.gcd(n1, n2) == 1:\n",
    "            hits += 1\n",
    "    return math.sqrt(6. / (float(hits) / float(n)))"
   ]
  },
  {
   "cell_type": "code",
   "execution_count": 8,
   "metadata": {},
   "outputs": [],
   "source": [
    "runs = 1000\n",
    "samples_per_run = 10000\n",
    "data_to_plot = [\n",
    "    estimate(pi_by_area, runs, samples_per_run),\n",
    "    estimate(pi_by_probability_of_coprimality, runs, samples_per_run),\n",
    "    estimate(pi_by_average_height, runs, samples_per_run),\n",
    "    estimate(pi_by_average_height_with_antithetic_variates, runs, samples_per_run),\n",
    "    estimate(pi_by_average_height_with_antithetic_and_control_variates, runs, samples_per_run)\n",
    "]"
   ]
  },
  {
   "cell_type": "code",
   "execution_count": 9,
   "metadata": {},
   "outputs": [
    {
     "data": {
      "image/png": "[encoded data removed]",
      "text/plain": [
       "<Figure size 648x432 with 1 Axes>"
      ]
     },
     "metadata": {
      "needs_background": "light"
     },
     "output_type": "display_data"
    }
   ],
   "source": [
    "fig = plt.figure(1, figsize=(9, 6))\n",
    "ax = fig.add_subplot(111)\n",
    "ax.set_xticklabels(['area', 'P(coprimality)', 'average height', 'antithetic', 'antithetic + control'])\n",
    "ax.axhline(y=math.pi, color='gray', linestyle='-.')\n",
    "bp = ax.boxplot(data_to_plot)\n",
    "for median in bp['medians']:\n",
    "    median.set(color='red', linewidth=3)"
   ]
  }
 ],
 "metadata": {
  "kernelspec": {
   "display_name": "Python 3",
   "language": "python",
   "name": "python3"
  },
  "language_info": {
   "codemirror_mode": {
    "name": "ipython",
    "version": 3
   },
   "file_extension": ".py",
   "mimetype": "text/x-python",
   "name": "python",
   "nbconvert_exporter": "python",
   "pygments_lexer": "ipython3",
   "version": "3.7.1"
  }
 },
 "nbformat": 4,
 "nbformat_minor": 2
}
